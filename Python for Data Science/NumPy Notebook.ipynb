{
 "cells": [
  {
   "cell_type": "markdown",
   "id": "2465fd64",
   "metadata": {},
   "source": [
    "# Numpy Arrays\n",
    "\n",
    "Numpy Arrays are of two kinds. 1D Vectors and 2D Matrix."
   ]
  },
  {
   "cell_type": "code",
   "execution_count": 1,
   "id": "fd45ee16",
   "metadata": {},
   "outputs": [],
   "source": [
    "# Importing Numpy\n",
    "\n",
    "import numpy as np"
   ]
  },
  {
   "cell_type": "code",
   "execution_count": 3,
   "id": "987427da",
   "metadata": {},
   "outputs": [
    {
     "data": {
      "text/plain": [
       "[1, 2, 3, 4]"
      ]
     },
     "execution_count": 3,
     "metadata": {},
     "output_type": "execute_result"
    }
   ],
   "source": [
    "# Creating a numpy array\n",
    "mylist = [1,2,3,4]\n",
    "mylist"
   ]
  },
  {
   "cell_type": "code",
   "execution_count": 4,
   "id": "91a49369",
   "metadata": {},
   "outputs": [
    {
     "data": {
      "text/plain": [
       "array([1, 2, 3, 4])"
      ]
     },
     "execution_count": 4,
     "metadata": {},
     "output_type": "execute_result"
    }
   ],
   "source": [
    "numpy_array = np.array(mylist)\n",
    "numpy_array"
   ]
  },
  {
   "cell_type": "code",
   "execution_count": 5,
   "id": "0680bf87",
   "metadata": {},
   "outputs": [],
   "source": [
    "# This is a numpy array 1D"
   ]
  },
  {
   "cell_type": "code",
   "execution_count": 6,
   "id": "7f138c7c",
   "metadata": {},
   "outputs": [
    {
     "data": {
      "text/plain": [
       "array([[1, 2, 3],\n",
       "       [4, 5, 6],\n",
       "       [7, 8, 9]])"
      ]
     },
     "execution_count": 6,
     "metadata": {},
     "output_type": "execute_result"
    }
   ],
   "source": [
    "# Creating a 2D Array\n",
    "\n",
    "my_mat = [[1,2,3],[4,5,6],[7,8,9]]\n",
    "numpy_2Darray = np.array(my_mat)\n",
    "numpy_2Darray"
   ]
  },
  {
   "cell_type": "code",
   "execution_count": null,
   "id": "60290038",
   "metadata": {},
   "outputs": [],
   "source": [
    "# This is a 2D array. It can also be seen from how it is displayed.\n",
    "# This array contains 3 rows and 3 columns."
   ]
  },
  {
   "cell_type": "markdown",
   "id": "5ba26b15",
   "metadata": {},
   "source": [
    "## Numpy objects to create arrays quickly"
   ]
  },
  {
   "cell_type": "markdown",
   "id": "c3de9585",
   "metadata": {},
   "source": [
    "#### 1. np.arange()"
   ]
  },
  {
   "cell_type": "code",
   "execution_count": 8,
   "id": "59849162",
   "metadata": {},
   "outputs": [
    {
     "data": {
      "text/plain": [
       "array([0, 1, 2, 3, 4, 5, 6, 7, 8, 9])"
      ]
     },
     "execution_count": 8,
     "metadata": {},
     "output_type": "execute_result"
    }
   ],
   "source": [
    "# SImilar to range function\n",
    "\n",
    "np.arange(0,10)"
   ]
  },
  {
   "cell_type": "code",
   "execution_count": 9,
   "id": "67303dd3",
   "metadata": {},
   "outputs": [
    {
     "data": {
      "text/plain": [
       "array([ 0,  2,  4,  6,  8, 10])"
      ]
     },
     "execution_count": 9,
     "metadata": {},
     "output_type": "execute_result"
    }
   ],
   "source": [
    "np.arange(0,11,2) # Upto 10 and step size of 2"
   ]
  },
  {
   "cell_type": "markdown",
   "id": "5cb8f87b",
   "metadata": {},
   "source": [
    "#### 2. np.zeros()"
   ]
  },
  {
   "cell_type": "code",
   "execution_count": 10,
   "id": "722752c9",
   "metadata": {},
   "outputs": [
    {
     "data": {
      "text/plain": [
       "array([0., 0., 0., 0., 0.])"
      ]
     },
     "execution_count": 10,
     "metadata": {},
     "output_type": "execute_result"
    }
   ],
   "source": [
    "# Creating an array with all zero elements\n",
    "\n",
    "np.zeros(5)"
   ]
  },
  {
   "cell_type": "code",
   "execution_count": 13,
   "id": "09a07670",
   "metadata": {},
   "outputs": [
    {
     "data": {
      "text/plain": [
       "array([[0., 0., 0., 0.],\n",
       "       [0., 0., 0., 0.],\n",
       "       [0., 0., 0., 0.],\n",
       "       [0., 0., 0., 0.],\n",
       "       [0., 0., 0., 0.]])"
      ]
     },
     "execution_count": 13,
     "metadata": {},
     "output_type": "execute_result"
    }
   ],
   "source": [
    "np.zeros((5,4))\n",
    "\n",
    "# The parameter should be passed as a tuple\n",
    "#The first digit represent the number of rows and the second digit represents the number of columns"
   ]
  },
  {
   "cell_type": "markdown",
   "id": "8c9b2e78",
   "metadata": {},
   "source": [
    "#### 3. np.ones()"
   ]
  },
  {
   "cell_type": "code",
   "execution_count": 14,
   "id": "e22ab526",
   "metadata": {},
   "outputs": [
    {
     "data": {
      "text/plain": [
       "array([1., 1., 1., 1., 1.])"
      ]
     },
     "execution_count": 14,
     "metadata": {},
     "output_type": "execute_result"
    }
   ],
   "source": [
    "# Creating an array with all elements as one\n",
    "\n",
    "np.ones(5)"
   ]
  },
  {
   "cell_type": "code",
   "execution_count": 15,
   "id": "f6e326de",
   "metadata": {},
   "outputs": [
    {
     "data": {
      "text/plain": [
       "array([[1., 1., 1., 1.],\n",
       "       [1., 1., 1., 1.],\n",
       "       [1., 1., 1., 1.],\n",
       "       [1., 1., 1., 1.],\n",
       "       [1., 1., 1., 1.]])"
      ]
     },
     "execution_count": 15,
     "metadata": {},
     "output_type": "execute_result"
    }
   ],
   "source": [
    "np.ones((5,4))\n",
    "\n",
    "# Similar to zeros"
   ]
  },
  {
   "cell_type": "markdown",
   "id": "082d8a80",
   "metadata": {},
   "source": [
    "#### 4. np.linspace()"
   ]
  },
  {
   "cell_type": "code",
   "execution_count": 20,
   "id": "091d793a",
   "metadata": {},
   "outputs": [
    {
     "data": {
      "text/plain": [
       "array([0.        , 0.22222222, 0.44444444, 0.66666667, 0.88888889,\n",
       "       1.11111111, 1.33333333, 1.55555556, 1.77777778, 2.        ])"
      ]
     },
     "execution_count": 20,
     "metadata": {},
     "output_type": "execute_result"
    }
   ],
   "source": [
    "# This is similar to arange but the parameters have different meanings\n",
    "np.linspace(0,2,10)\n",
    "\n",
    "# The onening range and closing range both are included\n",
    "# The third argument is the number of total points required - should always be int"
   ]
  },
  {
   "cell_type": "markdown",
   "id": "133aebc0",
   "metadata": {},
   "source": [
    "#### 5. np.eye()"
   ]
  },
  {
   "cell_type": "code",
   "execution_count": 21,
   "id": "b689bded",
   "metadata": {},
   "outputs": [
    {
     "data": {
      "text/plain": [
       "array([[1., 0., 0., 0., 0.],\n",
       "       [0., 1., 0., 0., 0.],\n",
       "       [0., 0., 1., 0., 0.],\n",
       "       [0., 0., 0., 1., 0.],\n",
       "       [0., 0., 0., 0., 1.]])"
      ]
     },
     "execution_count": 21,
     "metadata": {},
     "output_type": "execute_result"
    }
   ],
   "source": [
    "# Creating an Identity Matrix\n",
    "\n",
    "np.eye(5)\n",
    "\n",
    "# This gives an outpur as a 5X5 identity matrix"
   ]
  },
  {
   "cell_type": "code",
   "execution_count": 24,
   "id": "46a079d4",
   "metadata": {},
   "outputs": [
    {
     "data": {
      "text/plain": [
       "array([[1., 0., 0.],\n",
       "       [0., 1., 0.]])"
      ]
     },
     "execution_count": 24,
     "metadata": {},
     "output_type": "execute_result"
    }
   ],
   "source": [
    "np.eye(2,3)\n",
    "\n",
    "# This however cannot be called as an identity matrix. Though still useful"
   ]
  },
  {
   "cell_type": "markdown",
   "id": "2b867154",
   "metadata": {},
   "source": [
    "#### 6.np.random.rand()"
   ]
  },
  {
   "cell_type": "code",
   "execution_count": 28,
   "id": "4682c8d6",
   "metadata": {},
   "outputs": [
    {
     "data": {
      "text/plain": [
       "array([0.22613822, 0.9610844 , 0.04074985, 0.99038245, 0.76281707])"
      ]
     },
     "execution_count": 28,
     "metadata": {},
     "output_type": "execute_result"
    }
   ],
   "source": [
    "# Helps create a matrix of given size with values populated from a uniform distribution\n",
    "\n",
    "# uniform distribution is the key here\n",
    "\n",
    "np.random.rand(5)"
   ]
  },
  {
   "cell_type": "code",
   "execution_count": 29,
   "id": "20b8395e",
   "metadata": {},
   "outputs": [
    {
     "data": {
      "text/plain": [
       "array([[0.78918596, 0.40266395, 0.2942064 , 0.87852921],\n",
       "       [0.09555404, 0.65443712, 0.80128745, 0.89651624],\n",
       "       [0.81215593, 0.1620837 , 0.77424383, 0.88975082],\n",
       "       [0.64065074, 0.06810083, 0.01641535, 0.06638994],\n",
       "       [0.37755532, 0.60206857, 0.63428651, 0.56113075]])"
      ]
     },
     "execution_count": 29,
     "metadata": {},
     "output_type": "execute_result"
    }
   ],
   "source": [
    "np.random.rand(5,4)"
   ]
  },
  {
   "cell_type": "markdown",
   "id": "f3c043aa",
   "metadata": {},
   "source": [
    "#### 7.np.random.randn()"
   ]
  },
  {
   "cell_type": "code",
   "execution_count": 30,
   "id": "58e428a2",
   "metadata": {},
   "outputs": [
    {
     "data": {
      "text/plain": [
       "array([0.32261432, 2.05539246, 0.7350285 , 1.2749207 , 0.19829429])"
      ]
     },
     "execution_count": 30,
     "metadata": {},
     "output_type": "execute_result"
    }
   ],
   "source": [
    "# Helps create a matrix of given size with values populated from a normal or gaussian distribution\n",
    "\n",
    "# normal distribution is the key here\n",
    "\n",
    "np.random.randn(5)"
   ]
  },
  {
   "cell_type": "code",
   "execution_count": 31,
   "id": "6645fac7",
   "metadata": {},
   "outputs": [
    {
     "data": {
      "text/plain": [
       "array([[ 0.17977429, -0.07794975,  1.27864751,  1.26619252],\n",
       "       [-0.04036055, -1.78413292, -1.91343821,  1.22987921],\n",
       "       [ 0.65598996, -3.08633025, -1.15538578,  0.0984787 ],\n",
       "       [-1.17356131,  0.0353197 , -0.45521469, -1.16470294],\n",
       "       [-0.03827763, -1.4913082 ,  0.89923394, -1.96525346]])"
      ]
     },
     "execution_count": 31,
     "metadata": {},
     "output_type": "execute_result"
    }
   ],
   "source": [
    "np.random.randn(5,4)"
   ]
  },
  {
   "cell_type": "markdown",
   "id": "732ab688",
   "metadata": {},
   "source": [
    "#### 8.np.random.randint()"
   ]
  },
  {
   "cell_type": "code",
   "execution_count": 35,
   "id": "a27d6f75",
   "metadata": {},
   "outputs": [
    {
     "data": {
      "text/plain": [
       "array([28, 20, 98, 72, 30, 54,  5, 44, 92, 12])"
      ]
     },
     "execution_count": 35,
     "metadata": {},
     "output_type": "execute_result"
    }
   ],
   "source": [
    "# Helps creating an array of random integers in a given range\n",
    "\n",
    "np.random.randint(0,100,10)\n",
    "\n",
    "# Lower bound is inclusive and the higher bound is exclusive\n",
    "\n",
    "# Third argument specifies the number of elements required"
   ]
  },
  {
   "cell_type": "code",
   "execution_count": 38,
   "id": "01dcfb61",
   "metadata": {},
   "outputs": [
    {
     "data": {
      "text/plain": [
       "5"
      ]
     },
     "execution_count": 38,
     "metadata": {},
     "output_type": "execute_result"
    }
   ],
   "source": [
    "# If we dont include the third argument it just returns one number\n",
    "\n",
    "np.random.randint(0,100)"
   ]
  },
  {
   "cell_type": "markdown",
   "id": "d92d275c",
   "metadata": {},
   "source": [
    "## Some useful attributes and methods of an array"
   ]
  },
  {
   "cell_type": "code",
   "execution_count": 39,
   "id": "5f3cf350",
   "metadata": {},
   "outputs": [
    {
     "data": {
      "text/plain": [
       "array([ 0,  1,  2,  3,  4,  5,  6,  7,  8,  9, 10, 11, 12, 13, 14, 15, 16,\n",
       "       17, 18, 19, 20, 21, 22, 23, 24])"
      ]
     },
     "execution_count": 39,
     "metadata": {},
     "output_type": "execute_result"
    }
   ],
   "source": [
    "# let's difine two arrays to show these functions\n",
    "\n",
    "arr = np.arange(25)\n",
    "arr"
   ]
  },
  {
   "cell_type": "code",
   "execution_count": 41,
   "id": "3376ba5c",
   "metadata": {},
   "outputs": [
    {
     "data": {
      "text/plain": [
       "array([99, 28, 27, 59, 17,  1, 53, 57, 13, 38])"
      ]
     },
     "execution_count": 41,
     "metadata": {},
     "output_type": "execute_result"
    }
   ],
   "source": [
    "randarr = np.random.randint(0,100,10)\n",
    "randarr"
   ]
  },
  {
   "cell_type": "markdown",
   "id": "184d441b",
   "metadata": {},
   "source": [
    "#### 1. Reshape mehod"
   ]
  },
  {
   "cell_type": "code",
   "execution_count": 42,
   "id": "2eade3b6",
   "metadata": {},
   "outputs": [
    {
     "data": {
      "text/plain": [
       "array([[ 0,  1,  2,  3,  4],\n",
       "       [ 5,  6,  7,  8,  9],\n",
       "       [10, 11, 12, 13, 14],\n",
       "       [15, 16, 17, 18, 19],\n",
       "       [20, 21, 22, 23, 24]])"
      ]
     },
     "execution_count": 42,
     "metadata": {},
     "output_type": "execute_result"
    }
   ],
   "source": [
    "arr.reshape(5,5)\n",
    "\n",
    "# make sure that the number of elements in the previous array and the number of elements required in the new one\n",
    "# must be equal"
   ]
  },
  {
   "cell_type": "markdown",
   "id": "d581cd9a",
   "metadata": {},
   "source": [
    "#### 2. Max and Min method"
   ]
  },
  {
   "cell_type": "code",
   "execution_count": 45,
   "id": "0f539958",
   "metadata": {},
   "outputs": [
    {
     "data": {
      "text/plain": [
       "99"
      ]
     },
     "execution_count": 45,
     "metadata": {},
     "output_type": "execute_result"
    }
   ],
   "source": [
    "randarr.max()\n",
    "\n",
    "# Returns the maximum value in an array"
   ]
  },
  {
   "cell_type": "code",
   "execution_count": 46,
   "id": "cd4203d7",
   "metadata": {},
   "outputs": [
    {
     "data": {
      "text/plain": [
       "1"
      ]
     },
     "execution_count": 46,
     "metadata": {},
     "output_type": "execute_result"
    }
   ],
   "source": [
    "randarr.min()\n",
    "\n",
    "# Returns the minimum value in an array"
   ]
  },
  {
   "cell_type": "markdown",
   "id": "199de16f",
   "metadata": {},
   "source": [
    "#### agrmin and argmax methods"
   ]
  },
  {
   "cell_type": "code",
   "execution_count": 47,
   "id": "5d6829eb",
   "metadata": {},
   "outputs": [
    {
     "data": {
      "text/plain": [
       "0"
      ]
     },
     "execution_count": 47,
     "metadata": {},
     "output_type": "execute_result"
    }
   ],
   "source": [
    "randarr.argmax()\n",
    "\n",
    "# Returns the index location of the maximum value"
   ]
  },
  {
   "cell_type": "code",
   "execution_count": 48,
   "id": "ae801a10",
   "metadata": {},
   "outputs": [
    {
     "data": {
      "text/plain": [
       "5"
      ]
     },
     "execution_count": 48,
     "metadata": {},
     "output_type": "execute_result"
    }
   ],
   "source": [
    "randarr.argmin()\n",
    "\n",
    "# Returns the index location of the minimum value"
   ]
  },
  {
   "cell_type": "markdown",
   "id": "e2c13c1a",
   "metadata": {},
   "source": [
    "#### shape attribute"
   ]
  },
  {
   "cell_type": "code",
   "execution_count": 50,
   "id": "4e15b297",
   "metadata": {},
   "outputs": [
    {
     "data": {
      "text/plain": [
       "(25,)"
      ]
     },
     "execution_count": 50,
     "metadata": {},
     "output_type": "execute_result"
    }
   ],
   "source": [
    "arr.shape\n",
    "\n",
    "# This is an attribute therefore, paranthesis is not to be used"
   ]
  },
  {
   "cell_type": "code",
   "execution_count": 51,
   "id": "24c702b9",
   "metadata": {},
   "outputs": [
    {
     "data": {
      "text/plain": [
       "(5, 5)"
      ]
     },
     "execution_count": 51,
     "metadata": {},
     "output_type": "execute_result"
    }
   ],
   "source": [
    "# A single value denotes 1D array\n",
    "\n",
    "reshaped_arr = arr.reshape(5,5)\n",
    "reshaped_arr.shape"
   ]
  },
  {
   "cell_type": "markdown",
   "id": "93992db8",
   "metadata": {},
   "source": [
    "#### dtype attribute"
   ]
  },
  {
   "cell_type": "code",
   "execution_count": 53,
   "id": "e858b78b",
   "metadata": {},
   "outputs": [
    {
     "data": {
      "text/plain": [
       "dtype('int32')"
      ]
     },
     "execution_count": 53,
     "metadata": {},
     "output_type": "execute_result"
    }
   ],
   "source": [
    "arr.dtype"
   ]
  },
  {
   "cell_type": "code",
   "execution_count": null,
   "id": "9b7656ce",
   "metadata": {},
   "outputs": [],
   "source": [
    "# This shows the datatype of the elements of the array"
   ]
  },
  {
   "cell_type": "markdown",
   "id": "df1f8ccd",
   "metadata": {},
   "source": [
    "# NumPy - Indexing, Selection and Operations"
   ]
  },
  {
   "cell_type": "code",
   "execution_count": 1,
   "id": "afb75cd3",
   "metadata": {},
   "outputs": [],
   "source": [
    "import numpy as np"
   ]
  },
  {
   "cell_type": "code",
   "execution_count": 2,
   "id": "c120a584",
   "metadata": {},
   "outputs": [
    {
     "data": {
      "text/plain": [
       "array([ 0,  1,  2,  3,  4,  5,  6,  7,  8,  9, 10])"
      ]
     },
     "execution_count": 2,
     "metadata": {},
     "output_type": "execute_result"
    }
   ],
   "source": [
    "# Creating an example numpy array\n",
    "\n",
    "arr = np.arange(0,11)\n",
    "arr"
   ]
  },
  {
   "cell_type": "markdown",
   "id": "ae790a38",
   "metadata": {},
   "source": [
    "#### Indexing and Selection"
   ]
  },
  {
   "cell_type": "code",
   "execution_count": 3,
   "id": "6e9442dd",
   "metadata": {},
   "outputs": [
    {
     "data": {
      "text/plain": [
       "8"
      ]
     },
     "execution_count": 3,
     "metadata": {},
     "output_type": "execute_result"
    }
   ],
   "source": [
    "# Selecting the element at a specified position\n",
    "\n",
    "arr[8] # Same as lists"
   ]
  },
  {
   "cell_type": "code",
   "execution_count": 4,
   "id": "59a20925",
   "metadata": {},
   "outputs": [
    {
     "data": {
      "text/plain": [
       "array([1, 2, 3, 4])"
      ]
     },
     "execution_count": 4,
     "metadata": {},
     "output_type": "execute_result"
    }
   ],
   "source": [
    "# Selecting a sub-array using slicing \n",
    "\n",
    "arr[1:5]"
   ]
  },
  {
   "cell_type": "code",
   "execution_count": 5,
   "id": "801944ca",
   "metadata": {},
   "outputs": [],
   "source": [
    "# Similar to lists\n",
    "# outter bound is not included"
   ]
  },
  {
   "cell_type": "code",
   "execution_count": 6,
   "id": "e1775003",
   "metadata": {},
   "outputs": [
    {
     "data": {
      "text/plain": [
       "array([ 4,  5,  6,  7,  8,  9, 10])"
      ]
     },
     "execution_count": 6,
     "metadata": {},
     "output_type": "execute_result"
    }
   ],
   "source": [
    "arr[4:]\n",
    "\n",
    "# Upto the end. Can also be used for the first position"
   ]
  },
  {
   "cell_type": "code",
   "execution_count": 9,
   "id": "677b723a",
   "metadata": {},
   "outputs": [
    {
     "data": {
      "text/plain": [
       "array([100, 100, 100, 100, 100,   5,   6,   7,   8,   9,  10])"
      ]
     },
     "execution_count": 9,
     "metadata": {},
     "output_type": "execute_result"
    }
   ],
   "source": [
    "# Slicing can also be used for assignment\n",
    "\n",
    "arr[:5] = 100\n",
    "arr"
   ]
  },
  {
   "cell_type": "code",
   "execution_count": 11,
   "id": "4040662e",
   "metadata": {},
   "outputs": [
    {
     "data": {
      "text/plain": [
       "array([ 0,  1,  2,  3,  4,  5,  6,  7,  8,  9, 10])"
      ]
     },
     "execution_count": 11,
     "metadata": {},
     "output_type": "execute_result"
    }
   ],
   "source": [
    "# Slicing is a refrencing method. See the Example below\n",
    "arr = np.arange(0,11)\n",
    "arr"
   ]
  },
  {
   "cell_type": "code",
   "execution_count": 14,
   "id": "244a02bf",
   "metadata": {},
   "outputs": [
    {
     "data": {
      "text/plain": [
       "array([0, 1, 2, 3])"
      ]
     },
     "execution_count": 14,
     "metadata": {},
     "output_type": "execute_result"
    }
   ],
   "source": [
    "slice_of_array = arr[:4]\n",
    "slice_of_array"
   ]
  },
  {
   "cell_type": "code",
   "execution_count": 15,
   "id": "5f4217b5",
   "metadata": {},
   "outputs": [
    {
     "data": {
      "text/plain": [
       "array([20, 20, 20, 20])"
      ]
     },
     "execution_count": 15,
     "metadata": {},
     "output_type": "execute_result"
    }
   ],
   "source": [
    "slice_of_array[:] = 20\n",
    "slice_of_array"
   ]
  },
  {
   "cell_type": "code",
   "execution_count": 16,
   "id": "3d2551f1",
   "metadata": {},
   "outputs": [
    {
     "data": {
      "text/plain": [
       "array([20, 20, 20, 20,  4,  5,  6,  7,  8,  9, 10])"
      ]
     },
     "execution_count": 16,
     "metadata": {},
     "output_type": "execute_result"
    }
   ],
   "source": [
    "# Calling the original array\n",
    "arr"
   ]
  },
  {
   "cell_type": "code",
   "execution_count": 17,
   "id": "aec4c9c6",
   "metadata": {},
   "outputs": [
    {
     "data": {
      "text/plain": [
       "array([20, 20, 20, 20,  4,  5,  6,  7,  8,  9, 10])"
      ]
     },
     "execution_count": 17,
     "metadata": {},
     "output_type": "execute_result"
    }
   ],
   "source": [
    "# THe values have been changed here as well.\n",
    "\n",
    "# To specifically create a copy use the copy method\n",
    "\n",
    "arr_copy = arr.copy()\n",
    "arr_copy"
   ]
  },
  {
   "cell_type": "code",
   "execution_count": 18,
   "id": "5f72a36a",
   "metadata": {},
   "outputs": [],
   "source": [
    "# Any changes to arr_copy now wont affect the original arr"
   ]
  },
  {
   "cell_type": "markdown",
   "id": "315289ae",
   "metadata": {},
   "source": [
    "## Indexing a 2D Array"
   ]
  },
  {
   "cell_type": "code",
   "execution_count": 20,
   "id": "ce06e633",
   "metadata": {},
   "outputs": [
    {
     "data": {
      "text/plain": [
       "array([[ 5, 10, 15],\n",
       "       [20, 25, 30],\n",
       "       [35, 40, 45]])"
      ]
     },
     "execution_count": 20,
     "metadata": {},
     "output_type": "execute_result"
    }
   ],
   "source": [
    "arr_2d = np.array([[5,10,15], [20,25,30], [35,40,45]]) # Can be initiated by a list of lists\n",
    "arr_2d"
   ]
  },
  {
   "cell_type": "code",
   "execution_count": 21,
   "id": "5b30fe2e",
   "metadata": {},
   "outputs": [
    {
     "data": {
      "text/plain": [
       "5"
      ]
     },
     "execution_count": 21,
     "metadata": {},
     "output_type": "execute_result"
    }
   ],
   "source": [
    "# Selecting a single element\n",
    "arr_2d[0][0]"
   ]
  },
  {
   "cell_type": "code",
   "execution_count": 22,
   "id": "cfdb38b9",
   "metadata": {},
   "outputs": [],
   "source": [
    "# the above can also be done by a single brakect notation rather than double bracket notation"
   ]
  },
  {
   "cell_type": "code",
   "execution_count": 23,
   "id": "8c772a75",
   "metadata": {},
   "outputs": [
    {
     "data": {
      "text/plain": [
       "5"
      ]
     },
     "execution_count": 23,
     "metadata": {},
     "output_type": "execute_result"
    }
   ],
   "source": [
    "arr_2d[0,0]"
   ]
  },
  {
   "cell_type": "code",
   "execution_count": 27,
   "id": "fb6b4753",
   "metadata": {},
   "outputs": [
    {
     "data": {
      "text/plain": [
       "array([[10, 15],\n",
       "       [25, 30]])"
      ]
     },
     "execution_count": 27,
     "metadata": {},
     "output_type": "execute_result"
    }
   ],
   "source": [
    "# We can use colon to select a particular sub-array\n",
    "\n",
    "arr_2d[0:2,1:3]"
   ]
  },
  {
   "cell_type": "markdown",
   "id": "0bcb18f4",
   "metadata": {},
   "source": [
    "## Conditional Selection"
   ]
  },
  {
   "cell_type": "code",
   "execution_count": 29,
   "id": "3de2bba0",
   "metadata": {},
   "outputs": [
    {
     "data": {
      "text/plain": [
       "array([ 0,  1,  2,  3,  4,  5,  6,  7,  8,  9, 10])"
      ]
     },
     "execution_count": 29,
     "metadata": {},
     "output_type": "execute_result"
    }
   ],
   "source": [
    "arr = np.arange(0,11)\n",
    "arr"
   ]
  },
  {
   "cell_type": "code",
   "execution_count": 30,
   "id": "6e427ade",
   "metadata": {},
   "outputs": [
    {
     "data": {
      "text/plain": [
       "array([False, False, False, False, False, False,  True,  True,  True,\n",
       "        True,  True])"
      ]
     },
     "execution_count": 30,
     "metadata": {},
     "output_type": "execute_result"
    }
   ],
   "source": [
    "# using a comparison operator on an aray yeilds another array of same dimensions with the results of individual caomparisons\n",
    "\n",
    "# dtype of the new array is boolean\n",
    "\n",
    "arr > 5"
   ]
  },
  {
   "cell_type": "code",
   "execution_count": 31,
   "id": "f20faac3",
   "metadata": {},
   "outputs": [
    {
     "data": {
      "text/plain": [
       "array([ 6,  7,  8,  9, 10])"
      ]
     },
     "execution_count": 31,
     "metadata": {},
     "output_type": "execute_result"
    }
   ],
   "source": [
    "# if we pass the boolean array into the old array then it gives a new array with values where the conditions \n",
    "# were true\n",
    "\n",
    "bool_array = arr>5\n",
    "\n",
    "arr[bool_array]"
   ]
  },
  {
   "cell_type": "code",
   "execution_count": 32,
   "id": "9b3e5526",
   "metadata": {},
   "outputs": [],
   "source": [
    "# The dimensions are different from the original array"
   ]
  },
  {
   "cell_type": "code",
   "execution_count": 33,
   "id": "d7fa43e6",
   "metadata": {},
   "outputs": [
    {
     "data": {
      "text/plain": [
       "array([0, 1, 2])"
      ]
     },
     "execution_count": 33,
     "metadata": {},
     "output_type": "execute_result"
    }
   ],
   "source": [
    "# Executing this in a single step\n",
    "\n",
    "arr[arr<3]"
   ]
  },
  {
   "cell_type": "code",
   "execution_count": 35,
   "id": "bc52d392",
   "metadata": {},
   "outputs": [
    {
     "data": {
      "text/plain": [
       "array([30, 35, 40, 45])"
      ]
     },
     "execution_count": 35,
     "metadata": {},
     "output_type": "execute_result"
    }
   ],
   "source": [
    "# Implementing conditional selection on 2d arrays\n",
    "\n",
    "arr_2d[arr_2d>25]"
   ]
  },
  {
   "cell_type": "markdown",
   "id": "7d61dc67",
   "metadata": {},
   "source": [
    "# Numpy Operators"
   ]
  },
  {
   "cell_type": "code",
   "execution_count": 36,
   "id": "0394ece7",
   "metadata": {},
   "outputs": [
    {
     "data": {
      "text/plain": [
       "array([ 0,  1,  2,  3,  4,  5,  6,  7,  8,  9, 10])"
      ]
     },
     "execution_count": 36,
     "metadata": {},
     "output_type": "execute_result"
    }
   ],
   "source": [
    "# There can be three kinds of operations when arrays are concerned\n",
    "# 1. Arrays with Arrays\n",
    "# 2. Arrays with Scalars\n",
    "# 3. Functions implemented on arrays\n",
    "\n",
    "# let's see our example arrays\n",
    "\n",
    "arr"
   ]
  },
  {
   "cell_type": "code",
   "execution_count": 37,
   "id": "d5cb5192",
   "metadata": {},
   "outputs": [
    {
     "data": {
      "text/plain": [
       "array([ 0,  2,  4,  6,  8, 10, 12, 14, 16, 18, 20])"
      ]
     },
     "execution_count": 37,
     "metadata": {},
     "output_type": "execute_result"
    }
   ],
   "source": [
    "# Adding two arrays\n",
    "\n",
    "arr + arr"
   ]
  },
  {
   "cell_type": "code",
   "execution_count": 38,
   "id": "0c213635",
   "metadata": {},
   "outputs": [
    {
     "data": {
      "text/plain": [
       "array([0, 0, 0, 0, 0, 0, 0, 0, 0, 0, 0])"
      ]
     },
     "execution_count": 38,
     "metadata": {},
     "output_type": "execute_result"
    }
   ],
   "source": [
    "arr - arr"
   ]
  },
  {
   "cell_type": "code",
   "execution_count": 39,
   "id": "f17c3785",
   "metadata": {},
   "outputs": [
    {
     "data": {
      "text/plain": [
       "array([  0,   1,   4,   9,  16,  25,  36,  49,  64,  81, 100])"
      ]
     },
     "execution_count": 39,
     "metadata": {},
     "output_type": "execute_result"
    }
   ],
   "source": [
    "arr * arr"
   ]
  },
  {
   "cell_type": "code",
   "execution_count": 40,
   "id": "2dc05f3a",
   "metadata": {},
   "outputs": [
    {
     "name": "stderr",
     "output_type": "stream",
     "text": [
      "C:\\Users\\sahar\\AppData\\Local\\Temp/ipykernel_13972/3001117470.py:1: RuntimeWarning: invalid value encountered in true_divide\n",
      "  arr / arr\n"
     ]
    },
    {
     "data": {
      "text/plain": [
       "array([nan,  1.,  1.,  1.,  1.,  1.,  1.,  1.,  1.,  1.,  1.])"
      ]
     },
     "execution_count": 40,
     "metadata": {},
     "output_type": "execute_result"
    }
   ],
   "source": [
    "arr / arr"
   ]
  },
  {
   "cell_type": "code",
   "execution_count": 41,
   "id": "fa549f74",
   "metadata": {},
   "outputs": [
    {
     "ename": "ZeroDivisionError",
     "evalue": "division by zero",
     "output_type": "error",
     "traceback": [
      "\u001b[1;31m---------------------------------------------------------------------------\u001b[0m",
      "\u001b[1;31mZeroDivisionError\u001b[0m                         Traceback (most recent call last)",
      "\u001b[1;32m~\\AppData\\Local\\Temp/ipykernel_13972/182040962.py\u001b[0m in \u001b[0;36m<module>\u001b[1;34m\u001b[0m\n\u001b[1;32m----> 1\u001b[1;33m \u001b[1;36m0\u001b[0m\u001b[1;33m/\u001b[0m\u001b[1;36m0\u001b[0m\u001b[1;33m\u001b[0m\u001b[1;33m\u001b[0m\u001b[0m\n\u001b[0m",
      "\u001b[1;31mZeroDivisionError\u001b[0m: division by zero"
     ]
    }
   ],
   "source": [
    "0/0"
   ]
  },
  {
   "cell_type": "code",
   "execution_count": 42,
   "id": "2ccc2a7d",
   "metadata": {},
   "outputs": [],
   "source": [
    "# In numpy division by zero leads to a warning where as without numpy it is an error"
   ]
  },
  {
   "cell_type": "code",
   "execution_count": 43,
   "id": "93b7a684",
   "metadata": {},
   "outputs": [
    {
     "data": {
      "text/plain": [
       "array([100, 101, 102, 103, 104, 105, 106, 107, 108, 109, 110])"
      ]
     },
     "execution_count": 43,
     "metadata": {},
     "output_type": "execute_result"
    }
   ],
   "source": [
    "# Dealing with scalars and an array\n",
    "\n",
    "arr + 100"
   ]
  },
  {
   "cell_type": "code",
   "execution_count": 44,
   "id": "886470ff",
   "metadata": {},
   "outputs": [],
   "source": [
    "# What numpy does is it broadcasts the scalar to every element in the array\n",
    "# Works with all the four mathematical operators"
   ]
  },
  {
   "cell_type": "code",
   "execution_count": 45,
   "id": "a40dd01e",
   "metadata": {},
   "outputs": [
    {
     "data": {
      "text/plain": [
       "array([-100,  -99,  -98,  -97,  -96,  -95,  -94,  -93,  -92,  -91,  -90])"
      ]
     },
     "execution_count": 45,
     "metadata": {},
     "output_type": "execute_result"
    }
   ],
   "source": [
    "arr - 100"
   ]
  },
  {
   "cell_type": "code",
   "execution_count": 46,
   "id": "ad2be112",
   "metadata": {},
   "outputs": [
    {
     "data": {
      "text/plain": [
       "array([   0,  100,  200,  300,  400,  500,  600,  700,  800,  900, 1000])"
      ]
     },
     "execution_count": 46,
     "metadata": {},
     "output_type": "execute_result"
    }
   ],
   "source": [
    "arr * 100"
   ]
  },
  {
   "cell_type": "code",
   "execution_count": 47,
   "id": "5e1ea395",
   "metadata": {},
   "outputs": [
    {
     "data": {
      "text/plain": [
       "array([0.  , 0.01, 0.02, 0.03, 0.04, 0.05, 0.06, 0.07, 0.08, 0.09, 0.1 ])"
      ]
     },
     "execution_count": 47,
     "metadata": {},
     "output_type": "execute_result"
    }
   ],
   "source": [
    "arr / 100"
   ]
  },
  {
   "cell_type": "code",
   "execution_count": 50,
   "id": "efec44ef",
   "metadata": {},
   "outputs": [
    {
     "data": {
      "text/plain": [
       "array([  0,   1,   4,   9,  16,  25,  36,  49,  64,  81, 100], dtype=int32)"
      ]
     },
     "execution_count": 50,
     "metadata": {},
     "output_type": "execute_result"
    }
   ],
   "source": [
    "arr ** 2"
   ]
  },
  {
   "cell_type": "code",
   "execution_count": 48,
   "id": "7adbfe44",
   "metadata": {},
   "outputs": [
    {
     "data": {
      "text/plain": [
       "array([ 1,  2,  3,  4,  5,  6,  7,  8,  9, 10, 11])"
      ]
     },
     "execution_count": 48,
     "metadata": {},
     "output_type": "execute_result"
    }
   ],
   "source": [
    "# this can be executed like an equation. The order between just a single operator doesn't matter\n",
    "\n",
    "1 + arr"
   ]
  },
  {
   "cell_type": "code",
   "execution_count": 49,
   "id": "b9d4514e",
   "metadata": {},
   "outputs": [
    {
     "name": "stderr",
     "output_type": "stream",
     "text": [
      "C:\\Users\\sahar\\AppData\\Local\\Temp/ipykernel_13972/1528351372.py:1: RuntimeWarning: divide by zero encountered in true_divide\n",
      "  1 / arr\n"
     ]
    },
    {
     "data": {
      "text/plain": [
       "array([       inf, 1.        , 0.5       , 0.33333333, 0.25      ,\n",
       "       0.2       , 0.16666667, 0.14285714, 0.125     , 0.11111111,\n",
       "       0.1       ])"
      ]
     },
     "execution_count": 49,
     "metadata": {},
     "output_type": "execute_result"
    }
   ],
   "source": [
    "1 / arr"
   ]
  },
  {
   "cell_type": "markdown",
   "id": "d9f9185d",
   "metadata": {},
   "source": [
    "## numpy functions on arrays"
   ]
  },
  {
   "cell_type": "code",
   "execution_count": 51,
   "id": "b3273dda",
   "metadata": {},
   "outputs": [
    {
     "data": {
      "text/plain": [
       "array([ 0,  1,  2,  3,  4,  5,  6,  7,  8,  9, 10])"
      ]
     },
     "execution_count": 51,
     "metadata": {},
     "output_type": "execute_result"
    }
   ],
   "source": [
    "arr"
   ]
  },
  {
   "cell_type": "code",
   "execution_count": 52,
   "id": "99a2d169",
   "metadata": {},
   "outputs": [
    {
     "data": {
      "text/plain": [
       "array([0.        , 1.        , 1.41421356, 1.73205081, 2.        ,\n",
       "       2.23606798, 2.44948974, 2.64575131, 2.82842712, 3.        ,\n",
       "       3.16227766])"
      ]
     },
     "execution_count": 52,
     "metadata": {},
     "output_type": "execute_result"
    }
   ],
   "source": [
    "# sqrt function - squareroot of every element\n",
    "\n",
    "np.sqrt(arr)"
   ]
  },
  {
   "cell_type": "code",
   "execution_count": 53,
   "id": "fdc170db",
   "metadata": {},
   "outputs": [
    {
     "data": {
      "text/plain": [
       "array([1.00000000e+00, 2.71828183e+00, 7.38905610e+00, 2.00855369e+01,\n",
       "       5.45981500e+01, 1.48413159e+02, 4.03428793e+02, 1.09663316e+03,\n",
       "       2.98095799e+03, 8.10308393e+03, 2.20264658e+04])"
      ]
     },
     "execution_count": 53,
     "metadata": {},
     "output_type": "execute_result"
    }
   ],
   "source": [
    "# exp function - exp of every funcrion (power of e)\n",
    "\n",
    "np.exp(arr)"
   ]
  },
  {
   "cell_type": "code",
   "execution_count": 55,
   "id": "cca7cfc5",
   "metadata": {},
   "outputs": [
    {
     "data": {
      "text/plain": [
       "10"
      ]
     },
     "execution_count": 55,
     "metadata": {},
     "output_type": "execute_result"
    }
   ],
   "source": [
    "# max value among all the elements in the array\n",
    "\n",
    "np.max(arr)"
   ]
  },
  {
   "cell_type": "code",
   "execution_count": 56,
   "id": "4e880563",
   "metadata": {},
   "outputs": [
    {
     "data": {
      "text/plain": [
       "0"
      ]
     },
     "execution_count": 56,
     "metadata": {},
     "output_type": "execute_result"
    }
   ],
   "source": [
    "# min value among all the elements in the array\n",
    "\n",
    "np.min(arr)"
   ]
  },
  {
   "cell_type": "code",
   "execution_count": 58,
   "id": "5193fdcb",
   "metadata": {},
   "outputs": [
    {
     "data": {
      "text/plain": [
       "10"
      ]
     },
     "execution_count": 58,
     "metadata": {},
     "output_type": "execute_result"
    }
   ],
   "source": [
    "# for min and max we can call the method directly off the array\n",
    "\n",
    "arr.max()"
   ]
  },
  {
   "cell_type": "code",
   "execution_count": 59,
   "id": "9ee4ff9a",
   "metadata": {},
   "outputs": [
    {
     "data": {
      "text/plain": [
       "array([ 0.        ,  0.84147098,  0.90929743,  0.14112001, -0.7568025 ,\n",
       "       -0.95892427, -0.2794155 ,  0.6569866 ,  0.98935825,  0.41211849,\n",
       "       -0.54402111])"
      ]
     },
     "execution_count": 59,
     "metadata": {},
     "output_type": "execute_result"
    }
   ],
   "source": [
    "# Trignometric function\n",
    "\n",
    "np.sin(arr)"
   ]
  },
  {
   "cell_type": "code",
   "execution_count": 60,
   "id": "3b003405",
   "metadata": {},
   "outputs": [
    {
     "name": "stderr",
     "output_type": "stream",
     "text": [
      "C:\\Users\\sahar\\AppData\\Local\\Temp/ipykernel_13972/113375872.py:3: RuntimeWarning: divide by zero encountered in log\n",
      "  np.log(arr)\n"
     ]
    },
    {
     "data": {
      "text/plain": [
       "array([      -inf, 0.        , 0.69314718, 1.09861229, 1.38629436,\n",
       "       1.60943791, 1.79175947, 1.94591015, 2.07944154, 2.19722458,\n",
       "       2.30258509])"
      ]
     },
     "execution_count": 60,
     "metadata": {},
     "output_type": "execute_result"
    }
   ],
   "source": [
    "# Log function\n",
    "\n",
    "np.log(arr)"
   ]
  },
  {
   "cell_type": "code",
   "execution_count": 61,
   "id": "1c8447e6",
   "metadata": {},
   "outputs": [],
   "source": [
    "# numpy has most of the basic mathematical functions and some complex ones too\n",
    "# visit the documentation page to check"
   ]
  },
  {
   "cell_type": "code",
   "execution_count": 62,
   "id": "e2de63a5",
   "metadata": {},
   "outputs": [
    {
     "data": {
      "text/plain": [
       "55"
      ]
     },
     "execution_count": 62,
     "metadata": {},
     "output_type": "execute_result"
    }
   ],
   "source": [
    "# There also are functions that dont only work on individual values but give out the aggregate of all the values\n",
    "\n",
    "np.sum(arr)"
   ]
  },
  {
   "cell_type": "code",
   "execution_count": 63,
   "id": "7d183e9d",
   "metadata": {},
   "outputs": [
    {
     "data": {
      "text/plain": [
       "5.0"
      ]
     },
     "execution_count": 63,
     "metadata": {},
     "output_type": "execute_result"
    }
   ],
   "source": [
    "np.average(arr)"
   ]
  },
  {
   "cell_type": "code",
   "execution_count": 64,
   "id": "2a93a34c",
   "metadata": {},
   "outputs": [
    {
     "data": {
      "text/plain": [
       "3.1622776601683795"
      ]
     },
     "execution_count": 64,
     "metadata": {},
     "output_type": "execute_result"
    }
   ],
   "source": [
    "# Standatd Deviation of all the values\n",
    "\n",
    "np.std(arr)"
   ]
  },
  {
   "cell_type": "code",
   "execution_count": 67,
   "id": "c12d139e",
   "metadata": {},
   "outputs": [
    {
     "data": {
      "text/plain": [
       "array([60, 75, 90])"
      ]
     },
     "execution_count": 67,
     "metadata": {},
     "output_type": "execute_result"
    }
   ],
   "source": [
    "# for doing the operation row wise or column wise we can specify the axis\n",
    "\n",
    "np.sum(arr_2d,axis=0)"
   ]
  },
  {
   "cell_type": "code",
   "execution_count": 68,
   "id": "cb8533ab",
   "metadata": {},
   "outputs": [
    {
     "data": {
      "text/plain": [
       "array([4.0824829, 4.0824829, 4.0824829])"
      ]
     },
     "execution_count": 68,
     "metadata": {},
     "output_type": "execute_result"
    }
   ],
   "source": [
    "np.std(arr_2d,axis=1)"
   ]
  }
 ],
 "metadata": {
  "kernelspec": {
   "display_name": "Python 3 (ipykernel)",
   "language": "python",
   "name": "python3"
  },
  "language_info": {
   "codemirror_mode": {
    "name": "ipython",
    "version": 3
   },
   "file_extension": ".py",
   "mimetype": "text/x-python",
   "name": "python",
   "nbconvert_exporter": "python",
   "pygments_lexer": "ipython3",
   "version": "3.9.7"
  }
 },
 "nbformat": 4,
 "nbformat_minor": 5
}
